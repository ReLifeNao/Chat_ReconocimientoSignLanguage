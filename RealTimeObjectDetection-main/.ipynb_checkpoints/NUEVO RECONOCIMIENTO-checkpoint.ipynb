{
 "cells": [
  {
   "cell_type": "code",
   "execution_count": null,
   "id": "8569470a",
   "metadata": {},
   "outputs": [],
   "source": [
    "import socket   \n",
    "import threading\n",
    "import speech_recognition as sr\n",
    "\n",
    "username = input(\"Enter your username: \")\n",
    "\n",
    "host = '26.124.98.84'\n",
    "port = 4005\n",
    "\n",
    "client = socket.socket(socket.AF_INET, socket.SOCK_STREAM)\n",
    "client.connect((host, port))\n",
    "\n",
    "\n",
    "def receive_messages():\n",
    "    while True:\n",
    "        try:\n",
    "            message = client.recv(1024).decode('utf-8')\n",
    "\n",
    "            if message == \"@username\":\n",
    "                client.send(username.encode(\"utf-8\"))\n",
    "            else:\n",
    "                print(message)\n",
    "        except:\n",
    "            print(\"An error Ocurred\")\n",
    "            client.close\n",
    "            break\n",
    "\n",
    "def write_messages(txt):\n",
    "    \n",
    "    message = f\"{username}: {txt}\"\n",
    "    client.send(message.encode('utf-8'))\n",
    "\n",
    "def voz():     \n",
    "    r = sr.Recognizer() \n",
    "    while True:\n",
    "        with sr.Microphone() as source:\n",
    "            print('Speak Anything : ')\n",
    "            audio = r.listen(source)\n",
    "        \n",
    "            try:\n",
    "                text = r.recognize_google(audio)\n",
    "                #print('You said: {}'.format(text))\n",
    "                write_messages(text)\n",
    "            except:\n",
    "                print('Sorry could not hear')\n",
    "\n",
    "\n",
    "receive_thread = threading.Thread(target=receive_messages)\n",
    "receive_thread.start()\n",
    "\n",
    "write_threadvoz = threading.Thread(target=voz)\n",
    "write_threadvoz.start()\n",
    "\n",
    "#write_thread = threading.Thread(target=write_messages)\n",
    "#write_thread.start()"
   ]
  }
 ],
 "metadata": {
  "kernelspec": {
   "display_name": "Python 3",
   "language": "python",
   "name": "python3"
  },
  "language_info": {
   "codemirror_mode": {
    "name": "ipython",
    "version": 3
   },
   "file_extension": ".py",
   "mimetype": "text/x-python",
   "name": "python",
   "nbconvert_exporter": "python",
   "pygments_lexer": "ipython3",
   "version": "3.8.8"
  }
 },
 "nbformat": 4,
 "nbformat_minor": 5
}
