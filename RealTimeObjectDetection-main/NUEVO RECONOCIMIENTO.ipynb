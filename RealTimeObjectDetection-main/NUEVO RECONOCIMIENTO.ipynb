{
 "cells": [
  {
   "cell_type": "code",
   "execution_count": 4,
   "id": "7109df98",
   "metadata": {},
   "outputs": [
    {
     "name": "stdout",
     "output_type": "stream",
     "text": [
      "Enter your username: sergio\n",
      "Connected to server\n",
      "ChatBot: sergio joined the chat!\n",
      "Speak Anything : \n",
      "You said: 12345\n",
      "ChatBot: sergio disconnected\n",
      "Speak Anything : \n",
      "Speak Anything : \n",
      "You said: hola\n",
      "Speak Anything : \n",
      "Sorry could not hear\n",
      "Speak Anything : \n",
      "Sorry could not hear\n",
      "Speak Anything : \n",
      "You said: Equis De\n",
      "Speak Anything : \n",
      "Sorry could not hear\n",
      "Speak Anything : \n"
     ]
    }
   ],
   "source": [
    "import socket   \n",
    "import threading\n",
    "import speech_recognition as sr\n",
    "\n",
    "username = input(\"Enter your username: \")\n",
    "\n",
    "host = '26.124.98.84'\n",
    "port = 4005\n",
    "\n",
    "client = socket.socket(socket.AF_INET, socket.SOCK_STREAM)\n",
    "client.connect((host, port))\n",
    "\n",
    "\n",
    "def receive_messages():\n",
    "    while True:\n",
    "        try:\n",
    "            message = client.recv(1024).decode('utf-8')\n",
    "\n",
    "            if message == \"@username\":\n",
    "                client.send(username.encode(\"utf-8\"))\n",
    "            else:\n",
    "                print(message)\n",
    "        except:\n",
    "            print(\"An error Ocurred\")\n",
    "            client.close\n",
    "            break\n",
    "\n",
    "def write_messages(txt):\n",
    "    \n",
    "    message = f\"{username}: {txt}\"\n",
    "    client.send(message.encode('utf-8'))\n",
    "\n",
    "def voz():     \n",
    "    r = sr.Recognizer() \n",
    "    while True:\n",
    "        with sr.Microphone() as source:\n",
    "            print('Speak Anything : ')\n",
    "            audio = r.listen(source)\n",
    "        \n",
    "            try:\n",
    "                text = r.recognize_google(audio)\n",
    "                print('You said: {}'.format(text))\n",
    "                write_messages(text)\n",
    "            except:\n",
    "                print('Sorry could not hear')\n",
    "\n",
    "\n",
    "receive_thread = threading.Thread(target=receive_messages)\n",
    "receive_thread.start()\n",
    "\n",
    "write_threadvoz = threading.Thread(target=voz)\n",
    "write_threadvoz.start()\n",
    "\n",
    "#write_thread = threading.Thread(target=write_messages)\n",
    "#write_thread.start()"
   ]
  },
  {
   "cell_type": "code",
   "execution_count": 6,
   "id": "46b95555",
   "metadata": {},
   "outputs": [
    {
     "name": "stdout",
     "output_type": "stream",
     "text": [
      "Speak Anything : \n",
      "You said: Steven\n",
      "Speak Anything : \n",
      "You said: Steven\n",
      "Speak Anything : \n",
      "You said: boy okay okay okay okay okay\n",
      "Speak Anything : \n",
      "Speak Anything : \n",
      "Speak Anything : \n",
      "You said: basically\n",
      "Speak Anything : \n"
     ]
    }
   ],
   "source": [
    "import socket   \n",
    "import threading\n",
    "import speech_recognition as sr\n",
    "def voz():     \n",
    "    r = sr.Recognizer() \n",
    "\n",
    "    with sr.Microphone() as source:\n",
    "        print('Speak Anything : ')\n",
    "        audio = r.listen(source)\n",
    "\n",
    "        try:\n",
    "            text = r.recognize_google(audio)\n",
    "            print('You said: {}'.format(text))\n",
    "            write_messages(text)\n",
    "        except:\n",
    "            print('Sorry could not hear')\n",
    "            \n",
    "voz()"
   ]
  },
  {
   "cell_type": "code",
   "execution_count": null,
   "id": "a3aaf8b7",
   "metadata": {},
   "outputs": [],
   "source": [
    "import tkinter as tk\n",
    "import speech_recognition as sr\n",
    "\n",
    "\n",
    "window = tk.Tk()\n",
    "window.title(\"Voice to Text\")\n",
    "window.geometry(\"300x300\")\n",
    "\n",
    "\n",
    "def startvoice():\n",
    "    r = sr.Recognizer()\n",
    "    with sr.Microphone() as source:\n",
    "        try:\n",
    "            audio = r.record(source)\n",
    "            voice2text = r.recognize_google(audio)\n",
    "            text_field.focus()\n",
    "            text_field.delete()\n",
    "            text_field.insert(0, voice2text)\n",
    "        except:\n",
    "            print(\"error\")\n",
    "\n",
    "\n",
    "button1 = tk.Button(text=\"Start\", width=16, command=startvoice)\n",
    "button1.grid(column=0, row=0)\n",
    "\n",
    "text_field = tk.Text(master=window, height=20, width=40)\n",
    "text_field.grid(column=0, row=1)\n",
    "\n",
    "\n",
    "window.mainloop()"
   ]
  },
  {
   "cell_type": "code",
   "execution_count": 21,
   "id": "71eca341",
   "metadata": {},
   "outputs": [
    {
     "name": "stdout",
     "output_type": "stream",
     "text": [
      "hola\n",
      "a\n"
     ]
    }
   ],
   "source": [
    "import tkinter as tk\n",
    "\n",
    "window = tk.Tk()\n",
    "window.title(\"Voice to Text\")\n",
    "window.geometry(\"300x300\")\n",
    "def change(state):\n",
    "\n",
    "    if state == \"d\":\n",
    "        state = \"a\"\n",
    "    else:\n",
    "        state = \"d\"\n",
    "\n",
    "    print(state)\n",
    "\n",
    "state = \"d\"\n",
    "print(\"hola\")\n",
    "button1 = tk.Button(text=\"Start\", width=16, command=change(state))\n",
    "button1.grid(column=0, row=0)\n",
    "\n",
    "window.mainloop()"
   ]
  },
  {
   "cell_type": "code",
   "execution_count": null,
   "id": "981f32ab",
   "metadata": {},
   "outputs": [],
   "source": []
  }
 ],
 "metadata": {
  "kernelspec": {
   "display_name": "Python 3",
   "language": "python",
   "name": "python3"
  },
  "language_info": {
   "codemirror_mode": {
    "name": "ipython",
    "version": 3
   },
   "file_extension": ".py",
   "mimetype": "text/x-python",
   "name": "python",
   "nbconvert_exporter": "python",
   "pygments_lexer": "ipython3",
   "version": "3.8.8"
  }
 },
 "nbformat": 4,
 "nbformat_minor": 5
}
