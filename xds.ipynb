{
 "cells": [
  {
   "cell_type": "code",
   "execution_count": 4,
   "id": "632a2d3d",
   "metadata": {},
   "outputs": [
    {
     "name": "stdout",
     "output_type": "stream",
     "text": [
      "Enter your username: maldicon\n",
      "Connected to server\n",
      "ChatBot: maldicon joined the chat!\n",
      "-> jelu\n",
      "jelu\n",
      "-> "
     ]
    },
    {
     "name": "stderr",
     "output_type": "stream",
     "text": [
      "Exception in thread Thread-13:\n",
      "Traceback (most recent call last):\n",
      "  File \"C:\\ProgramData\\Anaconda3\\lib\\threading.py\", line 932, in _bootstrap_inner\n",
      "    self.run()\n",
      "  File \"C:\\ProgramData\\Anaconda3\\lib\\threading.py\", line 870, in run\n",
      "    self._target(*self._args, **self._kwargs)\n",
      "  File \"<ipython-input-4-b2099dcd686c>\", line 33, in enviar\n",
      "EOFError: EOF when reading a line\n"
     ]
    }
   ],
   "source": [
    "import socket   \n",
    "import threading\n",
    "\n",
    "username = input(\"Enter your username: \")\n",
    "\n",
    "host = '26.124.98.84'\n",
    "port = 4005\n",
    "server=(host,port)\n",
    "client = socket.socket(socket.AF_INET, socket.SOCK_STREAM)\n",
    "client.connect((host, port))\n",
    "\n",
    "\n",
    "def receive_messages():\n",
    "    while True:\n",
    "        try:\n",
    "            message = client.recv(1024).decode('utf-8')\n",
    "\n",
    "            if message == \"@username\":\n",
    "                client.send(username.encode(\"utf-8\"))\n",
    "            else:\n",
    "                print(message)\n",
    "        except:\n",
    "            print(\"An error Ocurred\")\n",
    "            client.close\n",
    "            break\n",
    "\n",
    "def enviar():\n",
    "    \n",
    "    message = input(\"-> \")\n",
    "    while message !='q':\n",
    "        client.sendto(message.encode('utf-8'), server)\n",
    "       \n",
    "        message = input(\"-> \")\n",
    "\n",
    "    s.close()\n",
    "\n",
    "    \n",
    "receive_thread = threading.Thread(target=receive_messages)\n",
    "receive_thread.start()\n",
    "\n",
    "write_thread = threading.Thread(target=enviar)\n",
    "write_thread.start()"
   ]
  },
  {
   "cell_type": "code",
   "execution_count": null,
   "id": "1c3f7548",
   "metadata": {},
   "outputs": [],
   "source": []
  },
  {
   "cell_type": "code",
   "execution_count": null,
   "id": "69f6dcb1",
   "metadata": {},
   "outputs": [],
   "source": []
  }
 ],
 "metadata": {
  "kernelspec": {
   "display_name": "Python 3",
   "language": "python",
   "name": "python3"
  },
  "language_info": {
   "codemirror_mode": {
    "name": "ipython",
    "version": 3
   },
   "file_extension": ".py",
   "mimetype": "text/x-python",
   "name": "python",
   "nbconvert_exporter": "python",
   "pygments_lexer": "ipython3",
   "version": "3.8.8"
  }
 },
 "nbformat": 4,
 "nbformat_minor": 5
}
