{
 "cells": [
  {
   "cell_type": "code",
   "execution_count": null,
   "id": "ad1c6b93",
   "metadata": {},
   "outputs": [
    {
     "name": "stdout",
     "output_type": "stream",
     "text": [
      "Server Started\n",
      "Message from: ('192.168.100.208', 4005)\n",
      "From connected user: hola\n",
      "Sending: HOLA\n"
     ]
    }
   ],
   "source": [
    "import socket\n",
    "\n",
    "def Main():\n",
    "   \n",
    "    host = '26.124.98.84' #Server ip\n",
    "    port = 4000\n",
    "\n",
    "    s = socket.socket(socket.AF_INET, socket.SOCK_DGRAM)\n",
    "    s.bind((host, port))\n",
    "\n",
    "    print(\"Server Started\")\n",
    "    while True:\n",
    "        data, addr = s.recvfrom(1024)\n",
    "        data = data.decode('utf-8')\n",
    "        print(\"Message from: \" + str(addr))\n",
    "        print(\"From connected user: \" + data)\n",
    "        data = data.upper()\n",
    "        print(\"Sending: \" + data)\n",
    "        s.sendto(data.encode('utf-8'), addr)\n",
    "    c.close()\n",
    "\n",
    "if __name__=='__main__':\n",
    "    Main()"
   ]
  },
  {
   "cell_type": "code",
   "execution_count": null,
   "id": "ab28f2a5",
   "metadata": {},
   "outputs": [],
   "source": []
  }
 ],
 "metadata": {
  "kernelspec": {
   "display_name": "Python 3",
   "language": "python",
   "name": "python3"
  },
  "language_info": {
   "codemirror_mode": {
    "name": "ipython",
    "version": 3
   },
   "file_extension": ".py",
   "mimetype": "text/x-python",
   "name": "python",
   "nbconvert_exporter": "python",
   "pygments_lexer": "ipython3",
   "version": "3.8.8"
  }
 },
 "nbformat": 4,
 "nbformat_minor": 5
}
