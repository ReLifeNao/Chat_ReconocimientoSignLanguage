{
 "cells": [
  {
   "cell_type": "code",
   "execution_count": null,
   "id": "632a2d3d",
   "metadata": {},
   "outputs": [
    {
     "name": "stdout",
     "output_type": "stream",
     "text": [
      "-> sds\n",
      "1\n",
      "2\n",
      "Received from server: SDS\n",
      "-> bbbb\n",
      "3\n",
      "1\n",
      "2\n",
      "Received from server: BBBB\n"
     ]
    }
   ],
   "source": [
    "import socket\n",
    "\n",
    "def Main():\n",
    "\n",
    "    host='26.124.98.84' #client ip\n",
    "    port = 4005\n",
    "    \n",
    "    server = ('26.124.98.84', 4000)\n",
    "    \n",
    "    s = socket.socket(socket.AF_INET, socket.SOCK_DGRAM)\n",
    "    s.bind((host,port))\n",
    "    \n",
    "    message = input(\"-> \")\n",
    "    while message !='q':\n",
    "        s.sendto(message.encode('utf-8'), server)\n",
    "        print(\"1\")\n",
    "        data, addr = s.recvfrom(1024)\n",
    "        print(\"2\")\n",
    "        data = data.decode('utf-8')\n",
    "        print(\"Received from server: \" + data)\n",
    "        message = input(\"-> \")\n",
    "        print(\"3\")\n",
    "    s.close()\n",
    "\n",
    "if __name__=='__main__':\n",
    "    Main()"
   ]
  },
  {
   "cell_type": "code",
   "execution_count": null,
   "id": "1c3f7548",
   "metadata": {},
   "outputs": [],
   "source": []
  },
  {
   "cell_type": "code",
   "execution_count": null,
   "id": "69f6dcb1",
   "metadata": {},
   "outputs": [],
   "source": []
  }
 ],
 "metadata": {
  "kernelspec": {
   "display_name": "Python 3",
   "language": "python",
   "name": "python3"
  },
  "language_info": {
   "codemirror_mode": {
    "name": "ipython",
    "version": 3
   },
   "file_extension": ".py",
   "mimetype": "text/x-python",
   "name": "python",
   "nbconvert_exporter": "python",
   "pygments_lexer": "ipython3",
   "version": "3.8.8"
  }
 },
 "nbformat": 4,
 "nbformat_minor": 5
}
